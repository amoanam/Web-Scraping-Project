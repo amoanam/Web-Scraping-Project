{
 "cells": [
  {
   "cell_type": "code",
   "execution_count": 30,
   "id": "ee5a58f1",
   "metadata": {},
   "outputs": [],
   "source": [
    "# import libraries\n",
    "from bs4 import BeautifulSoup\n",
    "import requests\n",
    "import time\n",
    "import datetime\n",
    "import smtplib\n"
   ]
  },
  {
   "cell_type": "code",
   "execution_count": 31,
   "id": "f8665bbe",
   "metadata": {},
   "outputs": [
    {
     "name": "stdout",
     "output_type": "stream",
     "text": [
      "Collecting Data Is My Cardio Data Scientist Data Analyst T-Shirt\n",
      "€18.49\n"
     ]
    }
   ],
   "source": [
    "# connect to website\n",
    "\n",
    "URL = 'https://www.amazon.de/-/en/dp/B0BHLHH4ZR/ref=sr_1_39?crid=2SQXO8N91NY5N&keywords=data%2Banalyst%2Btshirt&qid=1670114658&sprefix=data%2Banalyst%2Btshirt%2Caps%2C152&sr=8-39'\n",
    "\n",
    "headers = {\"User-Agent\": \"Mozilla/5.0 (Windows NT 10.0; WOW64) AppleWebKit/537.36 (KHTML, like Gecko) Chrome/108.0.0.0 Safari/537.36\",    \"X-Amzn-Trace-Id\": \"Root=1-638bee0f-0bec816b264f33635e461b7f\"}\n",
    " \n",
    "page = requests.get(URL, headers=headers)  \n",
    "\n",
    "soup1 = BeautifulSoup(page.content, \"html.parser\")\n",
    "\n",
    "soup2 = BeautifulSoup(soup1.prettify(), \"html.parser\")\n",
    "\n",
    "title = soup2.find(id='productTitle').get_text(strip=True)\n",
    "\n",
    "price = soup2.find(name=\"span\", class_='a-offscreen').getText(strip=True)\n",
    "\n",
    "print(title)\n",
    "\n",
    "print(price)\n"
   ]
  },
  {
   "cell_type": "code",
   "execution_count": 32,
   "id": "d3ceecde",
   "metadata": {},
   "outputs": [
    {
     "name": "stdout",
     "output_type": "stream",
     "text": [
      "18.49\n"
     ]
    }
   ],
   "source": [
    "# cleaning data\n",
    "price= price.strip()[1:]\n",
    "print(price)"
   ]
  },
  {
   "cell_type": "code",
   "execution_count": 33,
   "id": "ff77bb78",
   "metadata": {},
   "outputs": [
    {
     "name": "stdout",
     "output_type": "stream",
     "text": [
      "2022-12-04\n"
     ]
    }
   ],
   "source": [
    "import datetime \n",
    "\n",
    "today = datetime.date.today()\n",
    "print(today)"
   ]
  },
  {
   "cell_type": "code",
   "execution_count": 34,
   "id": "09fd4571",
   "metadata": {},
   "outputs": [],
   "source": [
    "# Create CSV and write headers and data into the file\n",
    "import csv\n",
    "\n",
    "header = ['Title', 'Price', 'Date']\n",
    "data = [title, price, today]\n",
    "\n",
    "with open('AmazonWebScrapperDataset.csv', 'w' ,newline = '' , encoding= 'UTF8') as f:\n",
    "    writer= csv.writer(f)\n",
    "    writer.writerow(header)\n",
    "    writer.writerow(data)\n",
    "    "
   ]
  },
  {
   "cell_type": "code",
   "execution_count": 45,
   "id": "4ea8c6e8",
   "metadata": {},
   "outputs": [
    {
     "name": "stdout",
     "output_type": "stream",
     "text": [
      "                                               Title  Price        Date\n",
      "0  Collecting Data Is My Cardio Data Scientist Da...  18.49  2022-12-04\n",
      "1  Collecting Data Is My Cardio Data Scientist Da...  18.49  2022-12-04\n",
      "2  Collecting Data Is My Cardio Data Scientist Da...  18.49  2022-12-04\n"
     ]
    }
   ],
   "source": [
    "import pandas as pd\n",
    "\n",
    "df= pd.read_csv(r'C:\\Users\\Abdul Moanam\\Amazon web scrapping\\AmazonWebScrapperDataset.csv')\n",
    "\n",
    "print(df)"
   ]
  },
  {
   "cell_type": "code",
   "execution_count": 44,
   "id": "596763b4",
   "metadata": {},
   "outputs": [],
   "source": [
    "# now appending data to csv\n",
    "\n",
    "with open('AmazonWebScrapperDataset.csv','a+',newline ='',encoding= 'UTF8') as f:\n",
    "    writer= csv.writer(f)\n",
    "    writer.writerow(data)\n",
    "    "
   ]
  },
  {
   "cell_type": "code",
   "execution_count": 46,
   "id": "2827f5c6",
   "metadata": {},
   "outputs": [],
   "source": [
    "#cannot run this code everytime when we need to append data, can automate it\n",
    "#Combine all of the above code into one function\n",
    "\n",
    "def check_price():\n",
    "    URL = 'https://www.amazon.de/-/en/dp/B0BHLHH4ZR/ref=sr_1_39?crid=2SQXO8N91NY5N&keywords=data%2Banalyst%2Btshirt&qid=1670114658&sprefix=data%2Banalyst%2Btshirt%2Caps%2C152&sr=8-39'\n",
    "\n",
    "    headers = {\"User-Agent\": \"Mozilla/5.0 (Windows NT 10.0; WOW64) AppleWebKit/537.36 (KHTML, like Gecko) Chrome/108.0.0.0 Safari/537.36\",    \"X-Amzn-Trace-Id\": \"Root=1-638bee0f-0bec816b264f33635e461b7f\"}\n",
    " \n",
    "    page = requests.get(URL, headers=headers)  \n",
    "\n",
    "    soup1 = BeautifulSoup(page.content, \"html.parser\")\n",
    "\n",
    "    soup2 = BeautifulSoup(soup1.prettify(), \"html.parser\")\n",
    "\n",
    "    title = soup2.find(id='productTitle').get_text(strip=True)\n",
    "\n",
    "    price = soup2.find(name=\"span\", class_='a-offscreen').getText(strip=True)\n",
    "    \n",
    "    price= price.strip()[1:]\n",
    "    \n",
    "    import datetime \n",
    "\n",
    "    today = datetime.date.today()\n",
    "    \n",
    "    import csv\n",
    "\n",
    "    header = ['Title', 'Price', 'Date']\n",
    "    \n",
    "    data = [title, price, today]\n",
    "    \n",
    "    with open('AmazonWebScrapperDataset.csv','a+',newline ='',encoding= 'UTF8') as f:\n",
    "        writer= csv.writer(f)\n",
    "        writer.writerow(data)\n",
    "        \n",
    "    if (price < 14):\n",
    "        send_email()\n",
    "    \n"
   ]
  },
  {
   "cell_type": "code",
   "execution_count": null,
   "id": "3418b6d2",
   "metadata": {},
   "outputs": [],
   "source": [
    "# timer to append the data; time is in seconds\n",
    "# Runs check_price after a set time and inputs data into your CSV\n",
    "\n",
    "while(True):\n",
    "    check_price()\n",
    "    time.sleep(86400)"
   ]
  },
  {
   "cell_type": "code",
   "execution_count": 48,
   "id": "121a6003",
   "metadata": {},
   "outputs": [
    {
     "name": "stdout",
     "output_type": "stream",
     "text": [
      "                                               Title  Price        Date\n",
      "0  Collecting Data Is My Cardio Data Scientist Da...  18.49  2022-12-04\n",
      "1  Collecting Data Is My Cardio Data Scientist Da...  18.49  2022-12-04\n",
      "2  Collecting Data Is My Cardio Data Scientist Da...  18.49  2022-12-04\n",
      "3  Collecting Data Is My Cardio Data Scientist Da...  18.49  2022-12-04\n",
      "4  Collecting Data Is My Cardio Data Scientist Da...  18.49  2022-12-04\n",
      "5  Collecting Data Is My Cardio Data Scientist Da...  18.49  2022-12-04\n",
      "6  Collecting Data Is My Cardio Data Scientist Da...  18.49  2022-12-04\n"
     ]
    }
   ],
   "source": [
    "import pandas as pd\n",
    "\n",
    "df= pd.read_csv(r'C:\\Users\\Abdul Moanam\\Amazon web scrapping\\AmazonWebScrapperDataset.csv')\n",
    "\n",
    "print(df)"
   ]
  },
  {
   "cell_type": "code",
   "execution_count": null,
   "id": "4b5eb820",
   "metadata": {},
   "outputs": [],
   "source": [
    "# If you want to try sending yourself an email, when price hits below a certain level\n",
    "\n",
    "def send_mail():\n",
    "    server = smtplib.SMTP_SSL('smtp.gmail.com',465)\n",
    "    server.ehlo()\n",
    "    #server.starttls()\n",
    "    server.ehlo()\n",
    "    server.login('abdulmoanam@gmai.com','xxxxxxxxxxxxxx')\n",
    "    \n",
    "    subject = \"The Shirt you want is below $15! Now is your chance to buy!\"\n",
    "    body = \"Abdul, The price on the tagged product is reduced, go check the link to buy the product. Link here: https://www.amazon.de/-/en/dp/B0BHLHH4ZR/ref=sr_1_13?crid=3TV2GQXDN60F9&keywords=Collecting+Data+Is+My+Cardio+Data+Scientist&qid=1670186933&sprefix=collecting+data+is+my+cardio+data+scientist%2Caps%2C779&sr=8-13\"\n",
    "   \n",
    "    msg = f\"Subject: {subject}\\n\\n{body}\"\n",
    "    \n",
    "    server.sendmail(\n",
    "        'abdulmoanam@gmail.com',\n",
    "        msg\n",
    "     \n",
    "    )\n"
   ]
  }
 ],
 "metadata": {
  "kernelspec": {
   "display_name": "Python 3",
   "language": "python",
   "name": "python3"
  },
  "language_info": {
   "codemirror_mode": {
    "name": "ipython",
    "version": 3
   },
   "file_extension": ".py",
   "mimetype": "text/x-python",
   "name": "python",
   "nbconvert_exporter": "python",
   "pygments_lexer": "ipython3",
   "version": "3.8.8"
  }
 },
 "nbformat": 4,
 "nbformat_minor": 5
}
